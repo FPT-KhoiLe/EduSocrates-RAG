{
 "cells": [
  {
   "metadata": {},
   "cell_type": "markdown",
   "source": "# Learn to ingest pdf datas",
   "id": "47ef220d55fec2ef"
  },
  {
   "metadata": {
    "ExecuteTime": {
     "end_time": "2025-05-16T03:11:46.470548Z",
     "start_time": "2025-05-16T03:11:44.593270Z"
    }
   },
   "cell_type": "code",
   "source": [
    "from edusocrates_rag.ingest import parse_pdf\n",
    "\n",
    "pdf_file = \"../datas/PDFs/DeepLearning/Sách Deep Learning cơ bản - v2.pdf\"\n",
    "\n",
    "records = parse_pdf(pdf_file)\n",
    "\n",
    "for rec in records[19:25]:\n",
    "    print(f\"DOC: {rec['doc']}, Chapter: {rec['chapter']}, Page: {rec['page']}\")\n",
    "    print(rec['text'][:200].replace(\"\\n\",\" \"), \"…\\n\")"
   ],
   "id": "ae852e96dcb6c5e4",
   "outputs": [
    {
     "name": "stdout",
     "output_type": "stream",
     "text": [
      "DOC: Sách Deep Learning cơ bản - v2, Chapter: None, Page: 20\n",
      "20 Chương 1. Cài đặt môi trường Sau đó kéo xuống chọn Google Colaboratory hoặc bạn có thể truy cập trực tiếp vào đây. Trong trường hợp bạn không tìm thấy Google Colaboratory, hãy chọn \"Connect more ap …\n",
      "\n",
      "DOC: Sách Deep Learning cơ bản - v2, Chapter: None, Page: 21\n",
      "1.2 Google Colab 21 Rồi click vào dấu mũi tên xuống phần Hardware accelerator chọn GPU 1.2.3 Các thành phần nhỏ Vì code Python được chia thành từng khối (block) để chạy, bạn nhìn hình bên dưới có: • n …\n",
      "\n",
      "DOC: Sách Deep Learning cơ bản - v2, Chapter: None, Page: 22\n",
      "22 Chương 1. Cài đặt môi trường khối code bằng các phím tắt cho nhanh hơn: – Cmd/Ctrl + Enter (Cmd cho Mac, Ctrl cho Win): chạy khối code/text. – Shift + Enter: Chạy và chuyển đối tượng xuống khối cod …\n",
      "\n",
      "DOC: Sách Deep Learning cơ bản - v2, Chapter: None, Page: 23\n",
      "1.2 Google Colab 23 Rồi chọn tab Files để nhìn thấy các Files, cách tổ chức file và thư mục dạng cây giống như trong window. Các file và thư mục trong google drive được lưu ở gdrive/My Drive …\n",
      "\n",
      "DOC: Sách Deep Learning cơ bản - v2, Chapter: None, Page: 24\n",
      "24 Chương 1. Cài đặt môi trường Để chuyển thư mục hiện tại đến thư mục khác bạn dùng lệnh \\%cd '/content/gdrive/My Drive/Deep-learning' ! ls 1.2.5 Cài thêm thư viện Để cài thêm thư viện bạn dùng cú ph …\n",
      "\n",
      "DOC: Sách Deep Learning cơ bản - v2, Chapter: None, Page: 25\n",
      "1.3 Hướng dẫn cài đặt anaconda 25 • Xử lý dữ liệu tốc độ cao với numpy, pandas • Hiển thị kết quả với Matplotlib, Bokeh Trong khi đó Spyder là 1 trong những IDE (môi trường tích hợp dùng để phát triển …\n",
      "\n"
     ]
    }
   ],
   "execution_count": 5
  }
 ],
 "metadata": {},
 "nbformat": 4,
 "nbformat_minor": 5
}
