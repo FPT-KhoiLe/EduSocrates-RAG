{
 "cells": [
  {
   "metadata": {},
   "cell_type": "markdown",
   "source": "# Learn to ingest pdf datas",
   "id": "47ef220d55fec2ef"
  },
  {
   "metadata": {
    "ExecuteTime": {
     "end_time": "2025-05-19T23:23:21.930210Z",
     "start_time": "2025-05-19T23:23:19.483760Z"
    }
   },
   "cell_type": "code",
   "source": [
    "from edusocrates_rag.data_ingest.ingest import *\n",
    "\n",
    "pdf_file = \"../datas/PDFs/DeepLearning/Sách Deep Learning cơ bản - v2.pdf\"\n",
    "\n",
    "chunks = ingest_pdf(pdf_file, max_tokens=10, overlap=5)\n",
    "for c in chunks[:10]:\n",
    "    print(f\"{c['page']}-{c['chunk_id']}: {c['text']}\\n\")"
   ],
   "id": "ae852e96dcb6c5e4",
   "outputs": [
    {
     "name": "stdout",
     "output_type": "stream",
     "text": [
      "2-2-0: \n",
      "\n",
      "2-2-1:  Copyright © 2019 Nguyễn Thanh Tuấn\n",
      "NTTUAN 8.COM\n",
      "The Legrand Orange Book Template by Mathias Legrand is used\n",
      "The book cover is designed by Nguyễn Thanh Tú\n",
      "Version 2, last update, August 2020\n",
      "\n",
      "3-3-0: \n",
      "\n",
      "3-3-1:  3\n",
      "Lời mở đầu\n",
      "Giới thiệu về Deep Learning\n",
      "Những năm gần đây, AI - Artificial Intelligence (Trí Tuệ Nhân Tạo), và cụ thể hơn là Machine\n",
      "Learning (Máy Học) nổi lên như một minh chứng của cuộc cách mạng công nghiệp lần thứ tư (1 -\n",
      "động cơ hơi nước, 2 - năng lượng điện, 3 - công nghệ thông tin).\n",
      "\n",
      "3-3-2: - công nghệ thông tin). AI hiện diện trong mọi lĩnh vực\n",
      "của đời sống con người, từ kinh tế, giáo dục, y khoa cho đến những công việc nhà, giải trí hay thậm\n",
      "chí là trong quân sự.\n",
      "\n",
      "3-3-3: chí là trong quân sự. Những ứng dụng nổi bật trong việc phát triển AI đến từ nhiều lĩnh vực để giải\n",
      "quyết nhiều vấn đề khác nhau.\n",
      "\n",
      "3-3-4: nhiều vấn đề khác nhau. Nhưng những đột phá phần nhiều đến từ Deep Learning (học sâu) -\n",
      "một mảng nhỏ đang mở rộng dần đến từng loại công việc, từ đơn giản đến phức tạp.\n",
      "\n",
      "3-3-5: đơn giản đến phức tạp. Deep Learning\n",
      "đã giúp máy tính thực thi những việc tưởng chừng như không thể vào 15 năm trước: phân loại cả\n",
      "ngàn vật thể khác nhau trong các bức ảnh, tự tạo chú thích cho ảnh, bắt chước giọng nói và chữ viết\n",
      "của con người, giao tiếp với con người, hay thậm chí cả sáng tác văn, phim, ảnh, âm nhạc.\n",
      "\n",
      "3-3-6: văn, phim, ảnh, âm nhạc. Hình 1: Mối quan hệ AI, ML và DL [3]\n",
      "Chúng ta có thể thấy Deep learning chỉ là một nhánh nhỏ của Machine Learning.\n",
      "\n",
      "3-3-7: nhánh nhỏ của Machine Learning. Tuy nhiên trong\n",
      "khoảng 5 năm trở lại đây thì Deep Learning được nhắc đến rất nhiều như một xu hướng mới của\n",
      "cuộc cách mạng AI.\n",
      "\n"
     ]
    }
   ],
   "execution_count": 1
  },
  {
   "metadata": {
    "ExecuteTime": {
     "end_time": "2025-05-19T23:49:40.456809Z",
     "start_time": "2025-05-19T23:49:37.063421Z"
    }
   },
   "cell_type": "code",
   "source": [
    "from edusocrates_rag.data_ingest.vector_store import *\n",
    "\n",
    "texts = [\"hello world\", \"foo bar\"]\n",
    "\n",
    "# 2. Gọi hàm embed_chunks với model nhỏ gọn (vd. all-MiniLM-L6-v2)\n",
    "embs = embed_chunks(texts, model_name=\"sentence-transformers/all-MiniLM-L6-v2\")\n",
    "print(embs.shape)"
   ],
   "id": "75955e695988ad8d",
   "outputs": [
    {
     "name": "stdout",
     "output_type": "stream",
     "text": [
      "torch.Size([2, 384])\n"
     ]
    }
   ],
   "execution_count": 2
  }
 ],
 "metadata": {},
 "nbformat": 4,
 "nbformat_minor": 5
}
