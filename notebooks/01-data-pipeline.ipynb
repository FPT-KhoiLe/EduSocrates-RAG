{
 "cells": [
  {
   "metadata": {},
   "cell_type": "markdown",
   "source": "# Learn to ingest pdf datas",
   "id": "47ef220d55fec2ef"
  },
  {
   "metadata": {
    "ExecuteTime": {
     "end_time": "2025-06-08T05:28:04.496296Z",
     "start_time": "2025-06-08T05:28:01.242422Z"
    }
   },
   "cell_type": "code",
   "source": [
    "from edusocrates_rag.data_ingest.ingest import *\n",
    "\n",
    "pdf_file = \"../datas/PDFs/DeepLearning/Sách Deep Learning cơ bản - v2.pdf\"\n",
    "\n",
    "chunks = ingest_pdf(pdf_file, max_tokens=10, overlap=5)\n",
    "for c in chunks[:10]:\n",
    "    print(f\"{c['page']}-{c['chunk_id']}: {c['text']}\\n\")"
   ],
   "id": "ae852e96dcb6c5e4",
   "outputs": [
    {
     "name": "stdout",
     "output_type": "stream",
     "text": [
      "2-2-0: \n",
      "\n",
      "2-2-1:  Copyright © 2019 Nguyễn Thanh Tuấn\n",
      "NTTUAN 8.COM\n",
      "The Legrand Orange Book Template by Mathias Legrand is used\n",
      "The book cover is designed by Nguyễn Thanh Tú\n",
      "Version 2, last update, August 2020\n",
      "\n",
      "3-3-0: \n",
      "\n",
      "3-3-1:  3\n",
      "Lời mở đầu\n",
      "Giới thiệu về Deep Learning\n",
      "Những năm gần đây, AI - Artificial Intelligence (Trí Tuệ Nhân Tạo), và cụ thể hơn là Machine\n",
      "Learning (Máy Học) nổi lên như một minh chứng của cuộc cách mạng công nghiệp lần thứ tư (1 -\n",
      "động cơ hơi nước, 2 - năng lượng điện, 3 - công nghệ thông tin).\n",
      "\n",
      "3-3-2: - công nghệ thông tin). AI hiện diện trong mọi lĩnh vực\n",
      "của đời sống con người, từ kinh tế, giáo dục, y khoa cho đến những công việc nhà, giải trí hay thậm\n",
      "chí là trong quân sự.\n",
      "\n",
      "3-3-3: chí là trong quân sự. Những ứng dụng nổi bật trong việc phát triển AI đến từ nhiều lĩnh vực để giải\n",
      "quyết nhiều vấn đề khác nhau.\n",
      "\n",
      "3-3-4: nhiều vấn đề khác nhau. Nhưng những đột phá phần nhiều đến từ Deep Learning (học sâu) -\n",
      "một mảng nhỏ đang mở rộng dần đến từng loại công việc, từ đơn giản đến phức tạp.\n",
      "\n",
      "3-3-5: đơn giản đến phức tạp. Deep Learning\n",
      "đã giúp máy tính thực thi những việc tưởng chừng như không thể vào 15 năm trước: phân loại cả\n",
      "ngàn vật thể khác nhau trong các bức ảnh, tự tạo chú thích cho ảnh, bắt chước giọng nói và chữ viết\n",
      "của con người, giao tiếp với con người, hay thậm chí cả sáng tác văn, phim, ảnh, âm nhạc.\n",
      "\n",
      "3-3-6: văn, phim, ảnh, âm nhạc. Hình 1: Mối quan hệ AI, ML và DL [3]\n",
      "Chúng ta có thể thấy Deep learning chỉ là một nhánh nhỏ của Machine Learning.\n",
      "\n",
      "3-3-7: nhánh nhỏ của Machine Learning. Tuy nhiên trong\n",
      "khoảng 5 năm trở lại đây thì Deep Learning được nhắc đến rất nhiều như một xu hướng mới của\n",
      "cuộc cách mạng AI.\n",
      "\n"
     ]
    }
   ],
   "execution_count": 1
  },
  {
   "metadata": {
    "ExecuteTime": {
     "end_time": "2025-06-08T05:28:14.457458Z",
     "start_time": "2025-06-08T05:28:04.513183Z"
    }
   },
   "cell_type": "code",
   "source": [
    "from edusocrates_rag.data_ingest.vector_store import *\n",
    "\n",
    "texts = [\"hello world\", \"foo bar\"]\n",
    "\n",
    "# 2. Gọi hàm embed_chunks với model nhỏ gọn (vd. all-MiniLM-L6-v2)\n",
    "embs = embed_chunks(texts, model_name=\"sentence-transformers/all-MiniLM-L6-v2\")\n",
    "print(embs.shape)"
   ],
   "id": "75955e695988ad8d",
   "outputs": [
    {
     "name": "stderr",
     "output_type": "stream",
     "text": [
      "2025-06-08 12:28:07.524087: I tensorflow/core/util/port.cc:153] oneDNN custom operations are on. You may see slightly different numerical results due to floating-point round-off errors from different computation orders. To turn them off, set the environment variable `TF_ENABLE_ONEDNN_OPTS=0`.\n",
      "2025-06-08 12:28:07.612995: E external/local_xla/xla/stream_executor/cuda/cuda_fft.cc:467] Unable to register cuFFT factory: Attempting to register factory for plugin cuFFT when one has already been registered\n",
      "WARNING: All log messages before absl::InitializeLog() is called are written to STDERR\n",
      "E0000 00:00:1749360487.648687    6157 cuda_dnn.cc:8579] Unable to register cuDNN factory: Attempting to register factory for plugin cuDNN when one has already been registered\n",
      "E0000 00:00:1749360487.658660    6157 cuda_blas.cc:1407] Unable to register cuBLAS factory: Attempting to register factory for plugin cuBLAS when one has already been registered\n",
      "W0000 00:00:1749360487.726074    6157 computation_placer.cc:177] computation placer already registered. Please check linkage and avoid linking the same target more than once.\n",
      "W0000 00:00:1749360487.726094    6157 computation_placer.cc:177] computation placer already registered. Please check linkage and avoid linking the same target more than once.\n",
      "W0000 00:00:1749360487.726097    6157 computation_placer.cc:177] computation placer already registered. Please check linkage and avoid linking the same target more than once.\n",
      "W0000 00:00:1749360487.726099    6157 computation_placer.cc:177] computation placer already registered. Please check linkage and avoid linking the same target more than once.\n",
      "2025-06-08 12:28:07.733335: I tensorflow/core/platform/cpu_feature_guard.cc:210] This TensorFlow binary is optimized to use available CPU instructions in performance-critical operations.\n",
      "To enable the following instructions: AVX2 AVX_VNNI FMA, in other operations, rebuild TensorFlow with the appropriate compiler flags.\n"
     ]
    },
    {
     "name": "stdout",
     "output_type": "stream",
     "text": [
      "torch.Size([2, 384])\n"
     ]
    }
   ],
   "execution_count": 2
  },
  {
   "metadata": {
    "ExecuteTime": {
     "end_time": "2025-06-08T06:34:24.538825Z",
     "start_time": "2025-06-08T06:34:18.366367Z"
    }
   },
   "cell_type": "code",
   "source": [
    "from edusocrates_rag.data_ingest.ingest import *\n",
    "from edusocrates_rag.data_ingest.vector_store import *\n",
    "\n",
    "pdf_file = \"../datas/PDFs/DeepLearning/Sách Deep Learning cơ bản - v2.pdf\"\n",
    "\n",
    "records = ingest_pdf(pdf_file, max_tokens=100, overlap=5)\n",
    "chunks = [rec[\"text\"] for rec in records]\n",
    "print(chunks[0])\n",
    "embs = embed_chunks(chunks, model_name=\"sentence-transformers/all-MiniLM-L6-v2\")\n",
    "index = build_faiss_index(embs.cpu().numpy().astype(np.float32))"
   ],
   "id": "38d3009e3918209d",
   "outputs": [
    {
     "name": "stdout",
     "output_type": "stream",
     "text": [
      "Copyright © 2019 Nguyễn Thanh Tuấn\n",
      "NTTUAN 8.COM\n",
      "The Legrand Orange Book Template by Mathias Legrand is used\n",
      "The book cover is designed by Nguyễn Thanh Tú\n",
      "Version 2, last update, August 2020\n"
     ]
    }
   ],
   "execution_count": 7
  },
  {
   "metadata": {
    "ExecuteTime": {
     "end_time": "2025-06-08T05:28:28.921266Z",
     "start_time": "2025-06-08T05:28:20.773244Z"
    }
   },
   "cell_type": "code",
   "source": [
    "query = input(\"User: \")\n",
    "query_embs = embed_chunks([query], model_name=\"sentence-transformers/all-MiniLM-L6-v2\").cpu().numpy().astype(np.float32)\n",
    "print(query_embs.shape)\n",
    "top_chunks = retrieve_top_k(\n",
    "    index=index,\n",
    "    query_embs=query_embs,\n",
    "    chunks=chunks,\n",
    ")\n",
    "\n",
    "for txt, score in top_chunks:\n",
    "    print(f\"{score:.3f}  |  {txt[:]}...\")"
   ],
   "id": "5d0d478abb604918",
   "outputs": [
    {
     "name": "stdout",
     "output_type": "stream",
     "text": [
      "(1, 384)\n",
      "0.334  |  ...\n",
      "0.334  |  ...\n",
      "0.334  |  ...\n",
      "0.334  |  ...\n",
      "0.334  |  ...\n"
     ]
    }
   ],
   "execution_count": 4
  },
  {
   "metadata": {
    "ExecuteTime": {
     "end_time": "2025-06-08T05:28:28.947781Z",
     "start_time": "2025-06-08T05:28:28.938349Z"
    }
   },
   "cell_type": "code",
   "source": [
    "from edusocrates_rag.data_ingest.ingest import ingest_pdf\n",
    "print(len(ingest_pdf(\"datas/PDFs/DeepLearning\")))"
   ],
   "id": "542fb540370cf123",
   "outputs": [],
   "execution_count": 5
  },
  {
   "metadata": {},
   "cell_type": "code",
   "outputs": [],
   "execution_count": null,
   "source": "",
   "id": "83944131256b61b1"
  }
 ],
 "metadata": {},
 "nbformat": 4,
 "nbformat_minor": 5
}
