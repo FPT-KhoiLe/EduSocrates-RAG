{
 "cells": [
  {
   "metadata": {},
   "cell_type": "markdown",
   "source": "# Learn to ingest pdf datas",
   "id": "47ef220d55fec2ef"
  },
  {
   "metadata": {
    "ExecuteTime": {
     "end_time": "2025-06-10T01:25:35.074689Z",
     "start_time": "2025-06-10T01:25:30.702616Z"
    }
   },
   "cell_type": "code",
   "source": [
    "from edusocrates_rag.data_ingest.ingest import *\n",
    "\n",
    "pdf_file = \"../datas/PDFs/Economics/Lược Sử Kinh Tế Học - Niall Kishtainy & Tạ Ngọc Thạch (dịch) & Nguyễn Trọng Tuấn (dịch).pdf\"\n",
    "\n",
    "chunks = ingest_pdf(pdf_file, max_tokens=10, overlap=5)\n",
    "for c in chunks[:10]:\n",
    "    print(f\"{c['page']}-{c['chunk_id']}: {c['text']}\\n\")"
   ],
   "id": "ae852e96dcb6c5e4",
   "outputs": [
    {
     "name": "stdout",
     "output_type": "stream",
     "text": [
      "3-3-0: \n",
      "\n",
      "3-3-1:  NIALL KISHTAINY\n",
      "Tạ Ngọc Thạch dịc h \n",
      "Nguyễn Trọng Tuấn dịc h  \n",
      "— ★ —\n",
      "LƯỢC SỬ KINH TẾ HỌC\n",
      "• A LITTLE HISTORY OF ECONOMICS •\n",
      "NHÃ NAM & NXB THẾ GIỚI\n",
      "ebook©vctvegroup | 27-11-2021\n",
      "\n",
      "4-4-0: \n",
      "\n",
      "4-4-1:  CHƯƠNG 1\n",
      "Cái Đầu Lạnh Và Trái Tim Nóng\n",
      "Việc bạn đang cầm quyển sách này trên tay đã đặt bạn vào một vị trí đặc\n",
      "biệt.\n",
      "\n",
      "4-4-2: một vị trí đặc biệt. Trước tiên, bạn (hoặc bất cứ ai cho bạn cuốn sách này) có tiền để mua\n",
      "nó.\n",
      "\n",
      "4-4-3: có tiền để mua nó. Nếu bạn đến từ một nước nghèo, gia đình bạn có lẽ đang vật lộn sống qua\n",
      "ngày chỉ với một vài đô la.\n",
      "\n",
      "4-4-4: với một vài đô la. Hầu hết số tiền mà bạn có sẽ dùng để mua thức ăn\n",
      "và sẽ không còn lại chút tiền nào để mua một cuốn sách.\n",
      "\n",
      "4-4-5: để mua một cuốn sách. Ngay cả khi bạn đã\n",
      "có trong tay một cuốn, nó cũng có thể trở nên vồ dụng bởi vì bạn sẽ không\n",
      "đọc được nó.\n",
      "\n",
      "4-4-6: sẽ không đọc được nó. Ở Burkina Faso, một đất nước nghèo ở Tây Phi, chưa đến một\n",
      "nửa giới trẻ biết đọc; chỉ có một phần ba các bé gái có thể đọc.\n",
      "\n",
      "4-4-7: bé gái có thể đọc. Thay vì học đại\n",
      "số hoặc ngôn ngữ, một bé gái 12 tuổi có khi mất cả ngày chỉ để kéo những xô\n",
      "nước về túp lều của gia đình mình.\n",
      "\n"
     ]
    }
   ],
   "execution_count": 4
  },
  {
   "metadata": {
    "ExecuteTime": {
     "end_time": "2025-06-10T01:25:50.636330Z",
     "start_time": "2025-06-10T01:25:40.530420Z"
    }
   },
   "cell_type": "code",
   "source": [
    "from edusocrates_rag.data_ingest.vector_store import *\n",
    "\n",
    "texts = [\"hello world\", \"foo bar\"]\n",
    "\n",
    "# 2. Gọi hàm embed_chunks với model nhỏ gọn (vd. all-MiniLM-L6-v2)\n",
    "embs = embed_chunks(texts, model_name=\"sentence-transformers/all-MiniLM-L6-v2\")\n",
    "print(embs.shape)"
   ],
   "id": "75955e695988ad8d",
   "outputs": [
    {
     "name": "stderr",
     "output_type": "stream",
     "text": [
      "C:\\Users\\Admin\\miniconda3\\envs\\EduSocrates-RAG\\Lib\\site-packages\\tqdm\\auto.py:21: TqdmWarning: IProgress not found. Please update jupyter and ipywidgets. See https://ipywidgets.readthedocs.io/en/stable/user_install.html\n",
      "  from .autonotebook import tqdm as notebook_tqdm\n"
     ]
    },
    {
     "ename": "NameError",
     "evalue": "name 'embed_chunks' is not defined",
     "output_type": "error",
     "traceback": [
      "\u001B[31m---------------------------------------------------------------------------\u001B[39m",
      "\u001B[31mNameError\u001B[39m                                 Traceback (most recent call last)",
      "\u001B[36mCell\u001B[39m\u001B[36m \u001B[39m\u001B[32mIn[5]\u001B[39m\u001B[32m, line 6\u001B[39m\n\u001B[32m      3\u001B[39m texts = [\u001B[33m\"\u001B[39m\u001B[33mhello world\u001B[39m\u001B[33m\"\u001B[39m, \u001B[33m\"\u001B[39m\u001B[33mfoo bar\u001B[39m\u001B[33m\"\u001B[39m]\n\u001B[32m      5\u001B[39m \u001B[38;5;66;03m# 2. Gọi hàm embed_chunks với model nhỏ gọn (vd. all-MiniLM-L6-v2)\u001B[39;00m\n\u001B[32m----> \u001B[39m\u001B[32m6\u001B[39m embs = embed_chunks(texts, model_name=\u001B[33m\"\u001B[39m\u001B[33msentence-transformers/all-MiniLM-L6-v2\u001B[39m\u001B[33m\"\u001B[39m)\n\u001B[32m      7\u001B[39m \u001B[38;5;28mprint\u001B[39m(embs.shape)\n",
      "\u001B[31mNameError\u001B[39m: name 'embed_chunks' is not defined"
     ]
    }
   ],
   "execution_count": 5
  },
  {
   "metadata": {
    "ExecuteTime": {
     "end_time": "2025-06-16T00:57:00.563026Z",
     "start_time": "2025-06-16T00:56:55.651602Z"
    }
   },
   "cell_type": "code",
   "source": [
    "from edusocrates_rag.data_ingest.ingest import *\n",
    "from edusocrates_rag.data_ingest.vector_store import *\n",
    "\n",
    "pdf_file = \"../datas/PDFs/Economics/Lược Sử Kinh Tế Học - Niall Kishtainy & Tạ Ngọc Thạch (dịch) & Nguyễn Trọng Tuấn (dịch).pdf\"\n",
    "\n",
    "records = ingest_pdf(pdf_file, max_tokens=100, overlap=5)\n",
    "chunks = [rec[\"text\"] for rec in records]\n",
    "print(chunks[0])\n",
    "embs = embed_chunks(chunks, model_name=\"sentence-transformers/all-MiniLM-L6-v2\")\n",
    "index = build_faiss_index(embs.cpu().numpy().astype(np.float32))"
   ],
   "id": "38d3009e3918209d",
   "outputs": [
    {
     "name": "stdout",
     "output_type": "stream",
     "text": [
      "NIALL KISHTAINY\n",
      "Tạ Ngọc Thạch dịc h \n",
      "Nguyễn Trọng Tuấn dịc h  \n",
      "— ★ —\n",
      "LƯỢC SỬ KINH TẾ HỌC\n",
      "• A LITTLE HISTORY OF ECONOMICS •\n",
      "NHÃ NAM & NXB THẾ GIỚI\n",
      "ebook©vctvegroup | 27-11-2021\n"
     ]
    },
    {
     "ename": "TypeError",
     "evalue": "string indices must be integers, not 'str'",
     "output_type": "error",
     "traceback": [
      "\u001B[31m---------------------------------------------------------------------------\u001B[39m",
      "\u001B[31mTypeError\u001B[39m                                 Traceback (most recent call last)",
      "\u001B[36mCell\u001B[39m\u001B[36m \u001B[39m\u001B[32mIn[2]\u001B[39m\u001B[32m, line 9\u001B[39m\n\u001B[32m      7\u001B[39m chunks = [rec[\u001B[33m\"\u001B[39m\u001B[33mtext\u001B[39m\u001B[33m\"\u001B[39m] \u001B[38;5;28;01mfor\u001B[39;00m rec \u001B[38;5;129;01min\u001B[39;00m records]\n\u001B[32m      8\u001B[39m \u001B[38;5;28mprint\u001B[39m(chunks[\u001B[32m0\u001B[39m])\n\u001B[32m----> \u001B[39m\u001B[32m9\u001B[39m build_index(\n\u001B[32m     10\u001B[39m     chunks=chunks,\n\u001B[32m     11\u001B[39m     kb_path= Path(\u001B[33m\"\u001B[39m\u001B[33m../knowledge/kb\u001B[39m\u001B[33m\"\u001B[39m)\n\u001B[32m     12\u001B[39m )\n",
      "\u001B[36mFile \u001B[39m\u001B[32mD:\\Works\\EduSocrates-RAG\\src\\edusocrates_rag\\data_ingest\\vector_store.py:31\u001B[39m, in \u001B[36mbuild_index\u001B[39m\u001B[34m(chunks, kb_path, index_name)\u001B[39m\n\u001B[32m     26\u001B[39m \u001B[38;5;250m\u001B[39m\u001B[33;03m\"\"\"\u001B[39;00m\n\u001B[32m     27\u001B[39m \u001B[33;03mchunks  : list returned by data_ingest.ingest.ingest_file()\u001B[39;00m\n\u001B[32m     28\u001B[39m \u001B[33;03mkb_path : path to knowledge-base folder (…/knowledge/<KB>)\u001B[39;00m\n\u001B[32m     29\u001B[39m \u001B[33;03m\"\"\"\u001B[39;00m\n\u001B[32m     30\u001B[39m kb_path.mkdir(parents=\u001B[38;5;28;01mTrue\u001B[39;00m, exist_ok=\u001B[38;5;28;01mTrue\u001B[39;00m)\n\u001B[32m---> \u001B[39m\u001B[32m31\u001B[39m vecs = _EMBED_MODEL.encode([c[\u001B[33m\"\u001B[39m\u001B[33mtext\u001B[39m\u001B[33m\"\u001B[39m] \u001B[38;5;28;01mfor\u001B[39;00m c \u001B[38;5;129;01min\u001B[39;00m chunks]).astype(\u001B[33m\"\u001B[39m\u001B[33mfloat32\u001B[39m\u001B[33m\"\u001B[39m)\n\u001B[32m     33\u001B[39m index = faiss.IndexFlatIP(_DIM)\n\u001B[32m     34\u001B[39m index.add(vecs)  \u001B[38;5;66;03m# type: ignore[arg-type]\u001B[39;00m\n",
      "\u001B[31mTypeError\u001B[39m: string indices must be integers, not 'str'"
     ]
    }
   ],
   "execution_count": 2
  },
  {
   "metadata": {
    "ExecuteTime": {
     "end_time": "2025-06-10T01:26:30.638260Z",
     "start_time": "2025-06-10T01:26:25.884339Z"
    }
   },
   "cell_type": "code",
   "outputs": [
    {
     "ename": "NameError",
     "evalue": "name 'embed_chunks' is not defined",
     "output_type": "error",
     "traceback": [
      "\u001B[31m---------------------------------------------------------------------------\u001B[39m",
      "\u001B[31mNameError\u001B[39m                                 Traceback (most recent call last)",
      "\u001B[36mCell\u001B[39m\u001B[36m \u001B[39m\u001B[32mIn[10]\u001B[39m\u001B[32m, line 2\u001B[39m\n\u001B[32m      1\u001B[39m query = \u001B[38;5;28minput\u001B[39m(\u001B[33m\"\u001B[39m\u001B[33mUser: \u001B[39m\u001B[33m\"\u001B[39m)\n\u001B[32m----> \u001B[39m\u001B[32m2\u001B[39m query_embs = embed_chunks([query], model_name=\u001B[33m\"\u001B[39m\u001B[33msentence-transformers/all-MiniLM-L6-v2\u001B[39m\u001B[33m\"\u001B[39m).cpu().numpy().astype(np.float32)\n\u001B[32m      3\u001B[39m \u001B[38;5;28mprint\u001B[39m(query_embs.shape)\n\u001B[32m      4\u001B[39m top_chunks = retrieve_top_k(\n\u001B[32m      5\u001B[39m     index=index,\n\u001B[32m      6\u001B[39m     query_embs=query_embs,\n\u001B[32m      7\u001B[39m     chunks=chunks,\n\u001B[32m      8\u001B[39m )\n",
      "\u001B[31mNameError\u001B[39m: name 'embed_chunks' is not defined"
     ]
    }
   ],
   "execution_count": 10,
   "source": [
    "query = input(\"User: \")\n",
    "query_embs = embed_chunks([query], model_name=\"sentence-transformers/all-MiniLM-L6-v2\").cpu().numpy().astype(np.float32)\n",
    "print(query_embs.shape)\n",
    "top_chunks = retrieve_top_k(\n",
    "    index=index,\n",
    "    query_embs=query_embs,\n",
    "    chunks=chunks,\n",
    ")\n",
    "\n",
    "for txt, score in top_chunks:\n",
    "    print(f\"{score:.3f}  |  {txt[:]}...\")"
   ],
   "id": "5d0d478abb604918"
  },
  {
   "metadata": {
    "ExecuteTime": {
     "end_time": "2025-06-08T05:28:28.947781Z",
     "start_time": "2025-06-08T05:28:28.938349Z"
    }
   },
   "cell_type": "code",
   "outputs": [],
   "execution_count": 5,
   "source": [
    "from edusocrates_rag.data_ingest.ingest import ingest_pdf\n",
    "print(len(ingest_pdf(\"datas/PDFs/DeepLearning\")))"
   ],
   "id": "542fb540370cf123"
  },
  {
   "metadata": {},
   "cell_type": "code",
   "outputs": [],
   "source": "",
   "id": "83944131256b61b1",
   "execution_count": null
  }
 ],
 "metadata": {},
 "nbformat": 4,
 "nbformat_minor": 5
}
